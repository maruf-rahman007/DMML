{
 "cells": [
  {
   "cell_type": "markdown",
   "metadata": {
    "id": "uUBbMObB6YFs"
   },
   "source": [
    "# Basic Python Operation\n"
   ]
  },
  {
   "cell_type": "code",
   "execution_count": 1,
   "metadata": {
    "colab": {
     "base_uri": "https://localhost:8080/"
    },
    "executionInfo": {
     "elapsed": 1351,
     "status": "ok",
     "timestamp": 1737346310984,
     "user": {
      "displayName": "Maruf Rahman 222-15-6212",
      "userId": "11826767439708062813"
     },
     "user_tz": -360
    },
    "id": "uT_iQAki5kVP",
    "outputId": "13e9cbb3-8929-4ccf-99c6-e3259ee6705a"
   },
   "outputs": [
    {
     "name": "stdout",
     "output_type": "stream",
     "text": [
      "Hi there\n"
     ]
    }
   ],
   "source": [
    "print(\"Hi there\")"
   ]
  },
  {
   "cell_type": "code",
   "execution_count": 2,
   "metadata": {
    "colab": {
     "base_uri": "https://localhost:8080/"
    },
    "executionInfo": {
     "elapsed": 311,
     "status": "ok",
     "timestamp": 1737347260310,
     "user": {
      "displayName": "Maruf Rahman 222-15-6212",
      "userId": "11826767439708062813"
     },
     "user_tz": -360
    },
    "id": "wGwQOHzm9fW-",
    "outputId": "dcc0df11-4365-4a25-8fe5-dabfff925a95"
   },
   "outputs": [
    {
     "name": "stdout",
     "output_type": "stream",
     "text": [
      "Count : 1\n",
      "Count : 2\n",
      "Count : 3\n",
      "Count : 4\n",
      "Count : 5\n",
      "Count : 6\n"
     ]
    }
   ],
   "source": [
    "input_list = [1,2,3,4,5,6]\n",
    "for i in input_list:\n",
    "    print(\"Count :\",i)"
   ]
  },
  {
   "cell_type": "code",
   "execution_count": 5,
   "metadata": {
    "colab": {
     "base_uri": "https://localhost:8080/"
    },
    "executionInfo": {
     "elapsed": 335,
     "status": "ok",
     "timestamp": 1737347457382,
     "user": {
      "displayName": "Maruf Rahman 222-15-6212",
      "userId": "11826767439708062813"
     },
     "user_tz": -360
    },
    "id": "LQgbbaBk-USm",
    "outputId": "66ab9357-f706-4605-d21f-874b876e9a92"
   },
   "outputs": [
    {
     "name": "stdout",
     "output_type": "stream",
     "text": [
      "Number is 8 and Name is Maruf\n"
     ]
    }
   ],
   "source": [
    "name = \"Maruf\"\n",
    "print(f\"Number is {8} and Name is {name}\")"
   ]
  },
  {
   "cell_type": "code",
   "execution_count": 7,
   "metadata": {
    "colab": {
     "base_uri": "https://localhost:8080/"
    },
    "executionInfo": {
     "elapsed": 328,
     "status": "ok",
     "timestamp": 1737347572301,
     "user": {
      "displayName": "Maruf Rahman 222-15-6212",
      "userId": "11826767439708062813"
     },
     "user_tz": -360
    },
    "id": "ZeOsDjVr-l4M",
    "outputId": "5a386aa8-0871-4db3-c3cf-63fbf0509114"
   },
   "outputs": [
    {
     "name": "stdout",
     "output_type": "stream",
     "text": [
      "5\n"
     ]
    }
   ],
   "source": [
    "num1 = 10\n",
    "num2 = 5\n",
    "sub = num1 - num2\n",
    "print(sub)"
   ]
  },
  {
   "cell_type": "code",
   "execution_count": 9,
   "metadata": {
    "colab": {
     "base_uri": "https://localhost:8080/"
    },
    "executionInfo": {
     "elapsed": 99568,
     "status": "ok",
     "timestamp": 1737347791395,
     "user": {
      "displayName": "Maruf Rahman 222-15-6212",
      "userId": "11826767439708062813"
     },
     "user_tz": -360
    },
    "id": "Pk5MTRI5_B7l",
    "outputId": "f540f44d-40be-4f04-a13e-26943be0f7db"
   },
   "outputs": [
    {
     "name": "stdout",
     "output_type": "stream",
     "text": [
      "Enter your Name: maruf\n",
      "Hello maruf\n"
     ]
    }
   ],
   "source": [
    "namee = input(\"Enter your Name: \")\n",
    "print(f\"Hello {namee}\")"
   ]
  },
  {
   "cell_type": "code",
   "execution_count": 19,
   "metadata": {
    "colab": {
     "base_uri": "https://localhost:8080/"
    },
    "executionInfo": {
     "elapsed": 11627,
     "status": "ok",
     "timestamp": 1737348392825,
     "user": {
      "displayName": "Maruf Rahman 222-15-6212",
      "userId": "11826767439708062813"
     },
     "user_tz": -360
    },
    "id": "sW1MyGdB_fME",
    "outputId": "a83ea84e-afa5-453f-9328-c88cf959cfa2"
   },
   "outputs": [
    {
     "name": "stdout",
     "output_type": "stream",
     "text": [
      "First num : 1\n",
      "Second num : 1\n",
      "Hello\n"
     ]
    }
   ],
   "source": [
    "a = int(input(\"First num : \"))\n",
    "b = int(input(\"Second num : \"))\n",
    "c = a + b\n",
    "if a == 1 and b == 1 and c == 2:\n",
    "    print(\"Hello\")\n",
    "else:\n",
    "    print(\"It should be 1 + 1 = 2\")"
   ]
  },
  {
   "cell_type": "code",
   "execution_count": 26,
   "metadata": {
    "colab": {
     "base_uri": "https://localhost:8080/"
    },
    "executionInfo": {
     "elapsed": 348,
     "status": "ok",
     "timestamp": 1737348745770,
     "user": {
      "displayName": "Maruf Rahman 222-15-6212",
      "userId": "11826767439708062813"
     },
     "user_tz": -360
    },
    "id": "6ZkwiukKCHgD",
    "outputId": "217637a0-0a7d-4d43-ed76-410a2bbc99d2"
   },
   "outputs": [
    {
     "name": "stdout",
     "output_type": "stream",
     "text": [
      "18\n"
     ]
    }
   ],
   "source": [
    "count = int(0)\n",
    "for i in range(4, 10, 2):\n",
    "    count = count + i\n",
    "print(count)"
   ]
  },
  {
   "cell_type": "code",
   "execution_count": 27,
   "metadata": {
    "colab": {
     "base_uri": "https://localhost:8080/"
    },
    "executionInfo": {
     "elapsed": 316,
     "status": "ok",
     "timestamp": 1737348934030,
     "user": {
      "displayName": "Maruf Rahman 222-15-6212",
      "userId": "11826767439708062813"
     },
     "user_tz": -360
    },
    "id": "2FgjkYxbCRYp",
    "outputId": "53191c92-376d-4e35-a5c8-028ad66c53cb"
   },
   "outputs": [
    {
     "name": "stdout",
     "output_type": "stream",
     "text": [
      "Even number\n",
      "Odd number\n",
      "Even number\n",
      "Odd number\n",
      "Even number\n",
      "Odd number\n",
      "Even number\n",
      "Odd number\n",
      "Even number\n",
      "Odd number\n"
     ]
    }
   ],
   "source": [
    "for i in range (10):\n",
    "  if i % 2 == 0:\n",
    "    print(\"Even number\")\n",
    "  else:\n",
    "    print(\"Odd number\")"
   ]
  },
  {
   "cell_type": "code",
   "execution_count": 30,
   "metadata": {
    "colab": {
     "base_uri": "https://localhost:8080/"
    },
    "executionInfo": {
     "elapsed": 349,
     "status": "ok",
     "timestamp": 1737349175750,
     "user": {
      "displayName": "Maruf Rahman 222-15-6212",
      "userId": "11826767439708062813"
     },
     "user_tz": -360
    },
    "id": "PdyqLWrLEndz",
    "outputId": "dd83008a-a182-401a-968a-1bab1de99dcb"
   },
   "outputs": [
    {
     "name": "stdout",
     "output_type": "stream",
     "text": [
      "Zero\n",
      "One\n",
      "Two\n",
      "More than Two\n",
      "More than Two\n",
      "More than Two\n",
      "More than Two\n",
      "More than Two\n",
      "More than Two\n",
      "More than Two\n"
     ]
    }
   ],
   "source": [
    "for i in range(10):\n",
    "  match i:\n",
    "    case 0:\n",
    "      print(\"Zero\")\n",
    "    case 1:\n",
    "      print(\"One\")\n",
    "    case 2:\n",
    "      print(\"Two\")\n",
    "    case default:\n",
    "      print(\"More than Two\")"
   ]
  },
  {
   "cell_type": "code",
   "execution_count": 33,
   "metadata": {
    "colab": {
     "base_uri": "https://localhost:8080/"
    },
    "executionInfo": {
     "elapsed": 345,
     "status": "ok",
     "timestamp": 1737349503387,
     "user": {
      "displayName": "Maruf Rahman 222-15-6212",
      "userId": "11826767439708062813"
     },
     "user_tz": -360
    },
    "id": "H-KGYEFJEqZI",
    "outputId": "381dce86-79ee-4e27-cf02-047fccd447d4"
   },
   "outputs": [
    {
     "name": "stdout",
     "output_type": "stream",
     "text": [
      "Zero\n",
      "One\n",
      "Two\n",
      "Three\n",
      "More than Three\n",
      "More than Three\n",
      "More than Three\n",
      "More than Three\n",
      "More than Three\n",
      "More than Three\n"
     ]
    }
   ],
   "source": [
    "for i in range(10):\n",
    "  if i == 0:\n",
    "    print(\"Zero\")\n",
    "  elif i == 1:\n",
    "    print(\"One\")\n",
    "  elif i == 2:\n",
    "    print(\"Two\")\n",
    "  elif i == 3:\n",
    "    print(\"Three\")\n",
    "  else:\n",
    "    print(\"More than Three\")"
   ]
  },
  {
   "cell_type": "code",
   "execution_count": 35,
   "metadata": {
    "colab": {
     "base_uri": "https://localhost:8080/"
    },
    "executionInfo": {
     "elapsed": 331,
     "status": "ok",
     "timestamp": 1737349605971,
     "user": {
      "displayName": "Maruf Rahman 222-15-6212",
      "userId": "11826767439708062813"
     },
     "user_tz": -360
    },
    "id": "Fp_kHHhWFiIY",
    "outputId": "72a27d53-4286-4fd1-fe9b-868ab654255d"
   },
   "outputs": [
    {
     "name": "stdout",
     "output_type": "stream",
     "text": [
      "<class 'int'>\n",
      "<class 'str'>\n",
      "<class 'float'>\n"
     ]
    }
   ],
   "source": [
    "num = 100\n",
    "naam = \"Maruf\"\n",
    "num4 = 3.1416\n",
    "print(type(num))\n",
    "print(type(naam))\n",
    "print(type(num4))"
   ]
  },
  {
   "cell_type": "code",
   "execution_count": 36,
   "metadata": {
    "colab": {
     "base_uri": "https://localhost:8080/"
    },
    "executionInfo": {
     "elapsed": 318,
     "status": "ok",
     "timestamp": 1737349792294,
     "user": {
      "displayName": "Maruf Rahman 222-15-6212",
      "userId": "11826767439708062813"
     },
     "user_tz": -360
    },
    "id": "xNBJc7vuGybv",
    "outputId": "bf13e057-bf4f-48ac-8bfb-43dccbb132f0"
   },
   "outputs": [
    {
     "name": "stdout",
     "output_type": "stream",
     "text": [
      "<class 'str'>\n",
      "<class 'str'>\n"
     ]
    }
   ],
   "source": [
    "s = \"hello world\"\n",
    "s2 = 'HELLO WORLD'\n",
    "print(type(s))\n",
    "print(type(s2))"
   ]
  },
  {
   "cell_type": "code",
   "execution_count": 40,
   "metadata": {
    "colab": {
     "base_uri": "https://localhost:8080/"
    },
    "executionInfo": {
     "elapsed": 438,
     "status": "ok",
     "timestamp": 1737350083994,
     "user": {
      "displayName": "Maruf Rahman 222-15-6212",
      "userId": "11826767439708062813"
     },
     "user_tz": -360
    },
    "id": "3fuDg50BHlQ2",
    "outputId": "c1df543c-8857-4ccf-883b-62fa50cd26cb"
   },
   "outputs": [
    {
     "name": "stdout",
     "output_type": "stream",
     "text": [
      "This is the first line\n",
      "and this is the new line\n",
      "47\n"
     ]
    }
   ],
   "source": [
    "ss = \"This is the first line\\nand this is the new line\"\n",
    "print(ss)\n",
    "print(len(ss))"
   ]
  },
  {
   "cell_type": "code",
   "execution_count": 44,
   "metadata": {
    "colab": {
     "base_uri": "https://localhost:8080/"
    },
    "executionInfo": {
     "elapsed": 371,
     "status": "ok",
     "timestamp": 1737350140319,
     "user": {
      "displayName": "Maruf Rahman 222-15-6212",
      "userId": "11826767439708062813"
     },
     "user_tz": -360
    },
    "id": "LBIR9EGBInF9",
    "outputId": "f68ab2da-5660-4fc8-c518-e74e208f4bb7"
   },
   "outputs": [
    {
     "name": "stdout",
     "output_type": "stream",
     "text": [
      "T\n"
     ]
    }
   ],
   "source": [
    "print(ss[0])"
   ]
  },
  {
   "cell_type": "code",
   "execution_count": 55,
   "metadata": {
    "colab": {
     "base_uri": "https://localhost:8080/"
    },
    "executionInfo": {
     "elapsed": 405,
     "status": "ok",
     "timestamp": 1737350357394,
     "user": {
      "displayName": "Maruf Rahman 222-15-6212",
      "userId": "11826767439708062813"
     },
     "user_tz": -360
    },
    "id": "TwY2gASaIq11",
    "outputId": "f1df0cc1-bff6-4d9f-a200-19aed135c6df"
   },
   "outputs": [
    {
     "name": "stdout",
     "output_type": "stream",
     "text": [
      "i\n",
      "enil wen eht si siht dna\n",
      "enil tsrif eht si sihT\n"
     ]
    }
   ],
   "source": [
    "print(ss[-3])\n",
    "print(ss[-1::-1])"
   ]
  },
  {
   "cell_type": "code",
   "execution_count": 56,
   "metadata": {
    "colab": {
     "base_uri": "https://localhost:8080/"
    },
    "executionInfo": {
     "elapsed": 395,
     "status": "ok",
     "timestamp": 1737350396593,
     "user": {
      "displayName": "Maruf Rahman 222-15-6212",
      "userId": "11826767439708062813"
     },
     "user_tz": -360
    },
    "id": "JG2oiSjQI8_8",
    "outputId": "d2f50162-be33-445d-b1eb-6cb27158b5ba"
   },
   "outputs": [
    {
     "name": "stdout",
     "output_type": "stream",
     "text": [
      "e\n"
     ]
    }
   ],
   "source": [
    "strr = \"Hello World\"\n",
    "print(strr[-10])"
   ]
  },
  {
   "cell_type": "code",
   "execution_count": 59,
   "metadata": {
    "colab": {
     "base_uri": "https://localhost:8080/"
    },
    "executionInfo": {
     "elapsed": 392,
     "status": "ok",
     "timestamp": 1737350486457,
     "user": {
      "displayName": "Maruf Rahman 222-15-6212",
      "userId": "11826767439708062813"
     },
     "user_tz": -360
    },
    "id": "8kKmZNH0JzbE",
    "outputId": "b422e0e6-6723-475d-c017-eade4a974011"
   },
   "outputs": [
    {
     "name": "stdout",
     "output_type": "stream",
     "text": [
      "hello world\n",
      "HELLO WORLD\n"
     ]
    }
   ],
   "source": [
    "strr2 = strr.lower()\n",
    "print(strr2)\n",
    "print(strr2.upper())"
   ]
  },
  {
   "cell_type": "code",
   "execution_count": 62,
   "metadata": {
    "colab": {
     "base_uri": "https://localhost:8080/"
    },
    "executionInfo": {
     "elapsed": 5291,
     "status": "ok",
     "timestamp": 1737350597701,
     "user": {
      "displayName": "Maruf Rahman 222-15-6212",
      "userId": "11826767439708062813"
     },
     "user_tz": -360
    },
    "id": "05y91aU5KJXL",
    "outputId": "e2bc9d96-9a83-410d-868c-6ea6fdc5d6c0"
   },
   "outputs": [
    {
     "name": "stdout",
     "output_type": "stream",
     "text": [
      "Enter your name: Maruf\n",
      "Hello there my name is Maruf\n"
     ]
    }
   ],
   "source": [
    "name22 = input(\"Enter your name: \")\n",
    "print(f\"Hello there my name is {name22}\")"
   ]
  },
  {
   "cell_type": "code",
   "execution_count": 66,
   "metadata": {
    "colab": {
     "base_uri": "https://localhost:8080/"
    },
    "executionInfo": {
     "elapsed": 404,
     "status": "ok",
     "timestamp": 1737350966557,
     "user": {
      "displayName": "Maruf Rahman 222-15-6212",
      "userId": "11826767439708062813"
     },
     "user_tz": -360
    },
    "id": "0EcC3jjoKjUs",
    "outputId": "249cd102-5840-4500-eb80-28c80520be24"
   },
   "outputs": [
    {
     "name": "stdout",
     "output_type": "stream",
     "text": [
      "[1, 2, 3, 4, 5, 6]\n",
      "6\n",
      "<class 'list'>\n",
      "<class 'list'>\n",
      "3\n",
      "[1, 2, 3, 4]\n"
     ]
    }
   ],
   "source": [
    "my_list = [1,2,3,4,5,6]\n",
    "my_list2 = [1,2,\"hi\",2.22]\n",
    "print(my_list)\n",
    "print(len(my_list))\n",
    "print(type(my_list))\n",
    "print(type(my_list2))\n",
    "print(my_list[2])\n",
    "print(my_list[:-2])"
   ]
  },
  {
   "cell_type": "code",
   "execution_count": 68,
   "metadata": {
    "colab": {
     "base_uri": "https://localhost:8080/"
    },
    "executionInfo": {
     "elapsed": 389,
     "status": "ok",
     "timestamp": 1737351014668,
     "user": {
      "displayName": "Maruf Rahman 222-15-6212",
      "userId": "11826767439708062813"
     },
     "user_tz": -360
    },
    "id": "a3KZvh2eL-kC",
    "outputId": "4ba53764-0f72-41a7-e78f-1eb3b025b564"
   },
   "outputs": [
    {
     "name": "stdout",
     "output_type": "stream",
     "text": [
      "Maruf\n"
     ]
    }
   ],
   "source": [
    "def print_name():\n",
    "  print(\"Maruf\")\n",
    "print_name()"
   ]
  },
  {
   "cell_type": "code",
   "execution_count": 69,
   "metadata": {
    "colab": {
     "base_uri": "https://localhost:8080/"
    },
    "executionInfo": {
     "elapsed": 377,
     "status": "ok",
     "timestamp": 1737351066824,
     "user": {
      "displayName": "Maruf Rahman 222-15-6212",
      "userId": "11826767439708062813"
     },
     "user_tz": -360
    },
    "id": "05qPl0wuMKUS",
    "outputId": "5ce24f31-d910-49df-dd8c-44d64b50c574"
   },
   "outputs": [
    {
     "name": "stdout",
     "output_type": "stream",
     "text": [
      "33\n"
     ]
    }
   ],
   "source": [
    "def two_sum(a,b):\n",
    "  print(int(a+b))\n",
    "two_sum(11,22)"
   ]
  },
  {
   "cell_type": "code",
   "execution_count": 70,
   "metadata": {
    "colab": {
     "base_uri": "https://localhost:8080/"
    },
    "executionInfo": {
     "elapsed": 390,
     "status": "ok",
     "timestamp": 1737351178340,
     "user": {
      "displayName": "Maruf Rahman 222-15-6212",
      "userId": "11826767439708062813"
     },
     "user_tz": -360
    },
    "id": "p3pEfGFKMj40",
    "outputId": "26cbc919-fe73-4a9a-c9eb-d8aa8e414e49"
   },
   "outputs": [
    {
     "name": "stdout",
     "output_type": "stream",
     "text": [
      "8\n"
     ]
    }
   ],
   "source": [
    "def twoSum(a=3,b=5):\n",
    "  return int(a+b)\n",
    "\n",
    "print(twoSum())"
   ]
  }
 ],
 "metadata": {
  "colab": {
   "authorship_tag": "ABX9TyMN+OinGN09/qfNCg9mFWTr",
   "provenance": []
  },
  "kernelspec": {
   "display_name": "base",
   "language": "python",
   "name": "python3"
  },
  "language_info": {
   "codemirror_mode": {
    "name": "ipython",
    "version": 3
   },
   "file_extension": ".py",
   "mimetype": "text/x-python",
   "name": "python",
   "nbconvert_exporter": "python",
   "pygments_lexer": "ipython3",
   "version": "3.12.7"
  }
 },
 "nbformat": 4,
 "nbformat_minor": 0
}
