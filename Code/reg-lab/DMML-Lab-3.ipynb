{
 "cells": [
  {
   "cell_type": "code",
   "execution_count": 2,
   "metadata": {},
   "outputs": [
    {
     "name": "stdout",
     "output_type": "stream",
     "text": [
      "A+\n"
     ]
    }
   ],
   "source": [
    "def calculate_grade(marks):\n",
    "    if 80 <= marks <= 100:\n",
    "        return 'A+'\n",
    "    elif 75 <= marks <= 79:\n",
    "        return 'A'\n",
    "    elif 70 <= marks <= 74:\n",
    "        return 'A-'\n",
    "    elif 65 <= marks <= 69:\n",
    "        return 'B+'\n",
    "    elif 60 <= marks <= 64:\n",
    "        return 'B'\n",
    "    elif 55 <= marks <= 59:\n",
    "        return 'B-'\n",
    "    elif 50 <= marks <= 54:\n",
    "        return 'C+'\n",
    "    elif 45 <= marks <= 49:\n",
    "        return 'C'\n",
    "    elif 40 <= marks <= 44:\n",
    "        return 'D'\n",
    "    else:\n",
    "        return 'F'\n",
    "\n",
    "\n",
    "marks = int(input(\"Enter your Marks: \"))\n",
    "\n",
    "print(calculate_grade(marks))"
   ]
  },
  {
   "cell_type": "code",
   "execution_count": null,
   "metadata": {},
   "outputs": [],
   "source": []
  }
 ],
 "metadata": {
  "kernelspec": {
   "display_name": "base",
   "language": "python",
   "name": "python3"
  },
  "language_info": {
   "codemirror_mode": {
    "name": "ipython",
    "version": 3
   },
   "file_extension": ".py",
   "mimetype": "text/x-python",
   "name": "python",
   "nbconvert_exporter": "python",
   "pygments_lexer": "ipython3",
   "version": "3.12.7"
  }
 },
 "nbformat": 4,
 "nbformat_minor": 2
}
